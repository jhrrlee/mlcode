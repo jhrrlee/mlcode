{
 "cells": [
  {
   "cell_type": "code",
   "execution_count": 1,
   "id": "1086a5be",
   "metadata": {},
   "outputs": [],
   "source": [
    "import tensorflow as tf\n",
    "from tensorflow import keras\n",
    "from tensorflow.keras import layers\n",
    "import pandas as pd\n",
    "import matplotlib.pyplot as plt\n",
    "import numpy as np\n",
    "from sklearn import preprocessing"
   ]
  },
  {
   "cell_type": "code",
   "execution_count": 2,
   "id": "b1bc4dc7",
   "metadata": {
    "scrolled": true
   },
   "outputs": [
    {
     "data": {
      "text/plain": [
       "[PhysicalDevice(name='/physical_device:CPU:0', device_type='CPU'),\n",
       " PhysicalDevice(name='/physical_device:GPU:0', device_type='GPU')]"
      ]
     },
     "execution_count": 2,
     "metadata": {},
     "output_type": "execute_result"
    }
   ],
   "source": [
    "tf.config.experimental.list_physical_devices()"
   ]
  },
  {
   "cell_type": "code",
   "execution_count": 3,
   "id": "a93ed611",
   "metadata": {
    "scrolled": true
   },
   "outputs": [
    {
     "data": {
      "text/html": [
       "<div>\n",
       "<style scoped>\n",
       "    .dataframe tbody tr th:only-of-type {\n",
       "        vertical-align: middle;\n",
       "    }\n",
       "\n",
       "    .dataframe tbody tr th {\n",
       "        vertical-align: top;\n",
       "    }\n",
       "\n",
       "    .dataframe thead th {\n",
       "        text-align: right;\n",
       "    }\n",
       "</style>\n",
       "<table border=\"1\" class=\"dataframe\">\n",
       "  <thead>\n",
       "    <tr style=\"text-align: right;\">\n",
       "      <th></th>\n",
       "      <th>x</th>\n",
       "      <th>y</th>\n",
       "      <th>z</th>\n",
       "    </tr>\n",
       "  </thead>\n",
       "  <tbody>\n",
       "    <tr>\n",
       "      <th>7</th>\n",
       "      <td>7</td>\n",
       "      <td>1</td>\n",
       "      <td>19</td>\n",
       "    </tr>\n",
       "    <tr>\n",
       "      <th>4</th>\n",
       "      <td>4</td>\n",
       "      <td>4</td>\n",
       "      <td>22</td>\n",
       "    </tr>\n",
       "    <tr>\n",
       "      <th>15</th>\n",
       "      <td>7</td>\n",
       "      <td>1</td>\n",
       "      <td>19</td>\n",
       "    </tr>\n",
       "    <tr>\n",
       "      <th>17</th>\n",
       "      <td>2</td>\n",
       "      <td>3</td>\n",
       "      <td>15</td>\n",
       "    </tr>\n",
       "    <tr>\n",
       "      <th>8</th>\n",
       "      <td>1</td>\n",
       "      <td>2</td>\n",
       "      <td>10</td>\n",
       "    </tr>\n",
       "  </tbody>\n",
       "</table>\n",
       "</div>"
      ],
      "text/plain": [
       "    x  y   z\n",
       "7   7  1  19\n",
       "4   4  4  22\n",
       "15  7  1  19\n",
       "17  2  3  15\n",
       "8   1  2  10"
      ]
     },
     "execution_count": 3,
     "metadata": {},
     "output_type": "execute_result"
    }
   ],
   "source": [
    "bs = pd.read_csv(\"basic_sample.csv\") #z=x*2+y*3+2\n",
    "bs.sample(5)"
   ]
  },
  {
   "cell_type": "code",
   "execution_count": 4,
   "id": "6d3a7fc7",
   "metadata": {},
   "outputs": [
    {
     "data": {
      "text/plain": [
       "array([[ 1,  1],\n",
       "       [ 2,  2],\n",
       "       [ 2,  2],\n",
       "       [ 3,  3],\n",
       "       [ 4,  4],\n",
       "       [ 5,  5],\n",
       "       [ 6, 21],\n",
       "       [ 7,  1],\n",
       "       [ 1,  2],\n",
       "       [ 1,  3],\n",
       "       [ 2,  4],\n",
       "       [ 3,  5],\n",
       "       [ 4,  6],\n",
       "       [ 5,  7],\n",
       "       [ 6,  2],\n",
       "       [ 7,  1],\n",
       "       [ 1,  2],\n",
       "       [ 2,  3],\n",
       "       [ 3,  4]], dtype=int64)"
      ]
     },
     "execution_count": 4,
     "metadata": {},
     "output_type": "execute_result"
    }
   ],
   "source": [
    "inputs = bs.drop('z', axis='columns')\n",
    "#inputs_scaled = scaler.fit_transform(inputs)\n",
    "inputs = inputs.values.reshape(bs.shape[0],2)\n",
    "#inputs = np.reshape(bs.shape[0],2)\n",
    "#scaler = preprocessing.StandardScaler().fit(inputs)\n",
    "#inputs = scaler.transform(inputs)\n",
    "inputs\n",
    "#scaler\n"
   ]
  },
  {
   "cell_type": "code",
   "execution_count": 5,
   "id": "72150adc",
   "metadata": {},
   "outputs": [
    {
     "data": {
      "text/plain": [
       "(19, 2)"
      ]
     },
     "execution_count": 5,
     "metadata": {},
     "output_type": "execute_result"
    }
   ],
   "source": [
    "inputs.shape"
   ]
  },
  {
   "cell_type": "code",
   "execution_count": 6,
   "id": "6179cc27",
   "metadata": {},
   "outputs": [
    {
     "data": {
      "text/plain": [
       "array([[ 7],\n",
       "       [12],\n",
       "       [12],\n",
       "       [17],\n",
       "       [22],\n",
       "       [27],\n",
       "       [77],\n",
       "       [19],\n",
       "       [10],\n",
       "       [13],\n",
       "       [18],\n",
       "       [23],\n",
       "       [28],\n",
       "       [33],\n",
       "       [20],\n",
       "       [19],\n",
       "       [10],\n",
       "       [15],\n",
       "       [20]], dtype=int64)"
      ]
     },
     "execution_count": 6,
     "metadata": {},
     "output_type": "execute_result"
    }
   ],
   "source": [
    "z = bs['z'].values.reshape(bs.shape[0],1)\n",
    "# = bs['z'].values\n",
    "z"
   ]
  },
  {
   "cell_type": "code",
   "execution_count": 7,
   "id": "373923ae",
   "metadata": {},
   "outputs": [
    {
     "data": {
      "text/plain": [
       "(19, 1)"
      ]
     },
     "execution_count": 7,
     "metadata": {},
     "output_type": "execute_result"
    }
   ],
   "source": [
    "z.shape"
   ]
  },
  {
   "cell_type": "code",
   "execution_count": 8,
   "id": "0c14c122",
   "metadata": {},
   "outputs": [],
   "source": [
    "#model = keras.Sequential()\n",
    "#model.add(keras.Input(shape=(2,), name=\"input_layer\"))\n",
    "#model.add(layers.Dense(2, activation=\"relu\", name=\"hidden_layer\"))\n",
    "#model.add(layers.Dense(2, name=\"hidden_layer\"))\n",
    "#model.add(layers.Dense(1, name=\"output_layer\"))\n",
    "\n",
    "#model.add(keras.Input(shape=(2,)))\n",
    "#model.add(layers.Dense(2, activation=\"relu\"))\n",
    "#model.add(layers.Dense(1))\n",
    "\n",
    "#model.summary()"
   ]
  },
  {
   "cell_type": "code",
   "execution_count": 9,
   "id": "33bcc624",
   "metadata": {},
   "outputs": [
    {
     "data": {
      "text/plain": [
       "(2, 2)"
      ]
     },
     "execution_count": 9,
     "metadata": {},
     "output_type": "execute_result"
    }
   ],
   "source": [
    "x = [[1.1,2.1], [2.1,3.1]]\n",
    "y = [2.2,3.2]\n",
    "np.shape(x)"
   ]
  },
  {
   "cell_type": "code",
   "execution_count": 10,
   "id": "97b2dc53",
   "metadata": {},
   "outputs": [
    {
     "data": {
      "text/plain": [
       "<tf.Tensor: shape=(3, 2), dtype=float32, numpy=\n",
       "array([[1., 1.],\n",
       "       [1., 1.],\n",
       "       [1., 1.]], dtype=float32)>"
      ]
     },
     "execution_count": 10,
     "metadata": {},
     "output_type": "execute_result"
    }
   ],
   "source": [
    "x = tf.ones((3, 2))\n",
    "x"
   ]
  },
  {
   "cell_type": "code",
   "execution_count": 11,
   "id": "843e3396",
   "metadata": {},
   "outputs": [
    {
     "data": {
      "text/plain": [
       "TensorShape([3, 2])"
      ]
     },
     "execution_count": 11,
     "metadata": {},
     "output_type": "execute_result"
    }
   ],
   "source": [
    "np.shape(x)"
   ]
  },
  {
   "cell_type": "code",
   "execution_count": 12,
   "id": "895a0a9b",
   "metadata": {},
   "outputs": [],
   "source": [
    "# Call the model on a test input\n",
    "#x = tf.ones((3, 2))\n",
    "#y = model(x)\n",
    "#print(\"Number of weights after calling the model:\", len(model.weights))  # 6"
   ]
  },
  {
   "cell_type": "code",
   "execution_count": 13,
   "id": "a22c8d47",
   "metadata": {},
   "outputs": [],
   "source": [
    "#model.compile(optimizer='SGD',\n",
    "#              metrics=['accuracy'])\n",
    "#model.compile(optimizer=\"Adam\", loss=\"mse\", metrics=[\"mae\"])\n",
    "#model.fit(inputs, z, epochs=20)"
   ]
  },
  {
   "cell_type": "markdown",
   "id": "07093a6e",
   "metadata": {},
   "source": [
    "class CustomModel(keras.Model):\n",
    "    def train_step(self, data):\n",
    "        # Unpack the data. Its structure depends on your model and\n",
    "        # on what you pass to `fit()`.\n",
    "        if len(data) == 3:\n",
    "            x, y, sample_weight = data\n",
    "        else:\n",
    "            sample_weight = None\n",
    "            x, y = data\n",
    "\n",
    "        with tf.GradientTape() as tape:\n",
    "            y_pred = self(x, training=True)  # Forward pass\n",
    "            # Compute the loss value.\n",
    "            # The loss function is configured in `compile()`.\n",
    "            loss = self.compiled_loss(\n",
    "                y,\n",
    "                y_pred,\n",
    "                sample_weight=sample_weight,\n",
    "                regularization_losses=self.losses,\n",
    "            )\n",
    "        \n",
    "        # Compute gradients\n",
    "        trainable_vars = self.trainable_variables\n",
    "        gradients = tape.gradient(loss, trainable_vars)\n",
    "        \n",
    "        print(f'loss:{loss}, weights:{sample_weight}')\n",
    "        \n",
    "        # Update weights\n",
    "        self.optimizer.apply_gradients(zip(gradients, trainable_vars))\n",
    "\n",
    "        # Update the metrics.\n",
    "        # Metrics are configured in `compile()`.\n",
    "        self.compiled_metrics.update_state(y, y_pred, sample_weight=sample_weight)\n",
    "\n",
    "        # Return a dict mapping metric names to current value.\n",
    "        # Note that it will include the loss (tracked in self.metrics).\n",
    "        return {m.name: m.result() for m in self.metrics}\n",
    "\n",
    "\n"
   ]
  },
  {
   "cell_type": "code",
   "execution_count": 14,
   "id": "b5def919",
   "metadata": {},
   "outputs": [],
   "source": [
    "# Create 3 layers\n",
    "#layer1 = layers.Dense(2, activation=\"relu\", name=\"layer1\")\n",
    "#layer2 = layers.Dense(3, activation=\"relu\", name=\"layer2\")\n",
    "#layer3 = layers.Dense(4, name=\"layer3\")\n",
    "\n",
    "# Call layers on a test input\n",
    "#x = tf.ones((3, 3))\n",
    "#y = layer3(layer2(layer1(x)))"
   ]
  },
  {
   "cell_type": "code",
   "execution_count": 15,
   "id": "4f3f3863",
   "metadata": {},
   "outputs": [
    {
     "data": {
      "text/plain": [
       "(19, 2)"
      ]
     },
     "execution_count": 15,
     "metadata": {},
     "output_type": "execute_result"
    }
   ],
   "source": [
    "inputs.shape"
   ]
  },
  {
   "cell_type": "code",
   "execution_count": 48,
   "id": "e8b7eafa",
   "metadata": {},
   "outputs": [],
   "source": [
    "#model.evaluate(inputs, z)"
   ]
  },
  {
   "cell_type": "markdown",
   "id": "03d6004d",
   "metadata": {},
   "source": [
    "class Trainer:\n",
    "    def __init__(self, model, epochs, batch, loss_fn, optimizer):\n",
    "        self.model = model\n",
    "        self.epochs = epochs\n",
    "        self.batch = batch\n",
    "        self.loss_fn = loss_fn\n",
    "    def train(self, train_dataset, train_metric):\n",
    "        for epoch in range(self.epochs):\n",
    "            print(\"\\nStart of epoch %d\" % (epoch,))\n",
    "            # Iterate over the batches of the dataset.\n",
    "            for step, (x_batch_train, y_batch_train) in enumerate(train_dataset):\n",
    "                with tf.GradientTape() as tape:\n",
    "                    logits = model(x_batch_train, training=True)\n",
    "                    loss_value = self.loss_fn(y_batch_train, logits)\n",
    "                    # tf.print(loss_value)\n",
    "                grads = tape.gradient(loss_value, model.trainable_weights)\n",
    "                self.optimizer.apply_gradients(zip(grads, model.trainable_weights))\n",
    "                # Update training metric.\n",
    "                train_metric.update_state(y_batch_train, logits)\n",
    "                # Log every 5 batches.\n",
    "                if step % 5 == 0:\n",
    "                    print(\n",
    "                        \"Training loss (for one batch) at step %d: %.4f\"\n",
    "                        % (step, float(loss_value))\n",
    "                    )\n",
    "                    print(\"Seen so far: %d samples\" % ((step + 1) * self.batch))\n",
    "                    print(train_metric.result().numpy())\n",
    "                # Display metrics at the end of each epoch.\n",
    "            train_acc = train_acc_metric.result()\n",
    "            print(\"Training acc over epoch: %.4f\" % (float(train_acc),))"
   ]
  },
  {
   "cell_type": "code",
   "execution_count": 49,
   "id": "e9de8ebb",
   "metadata": {},
   "outputs": [
    {
     "data": {
      "text/plain": [
       "(19, 2)"
      ]
     },
     "execution_count": 49,
     "metadata": {},
     "output_type": "execute_result"
    }
   ],
   "source": [
    "inputs.shape"
   ]
  },
  {
   "cell_type": "code",
   "execution_count": 50,
   "id": "6f4e94bf",
   "metadata": {},
   "outputs": [
    {
     "data": {
      "text/plain": [
       "array([[ 1,  1],\n",
       "       [ 2,  2],\n",
       "       [ 2,  2],\n",
       "       [ 3,  3],\n",
       "       [ 4,  4],\n",
       "       [ 5,  5],\n",
       "       [ 6, 21],\n",
       "       [ 7,  1],\n",
       "       [ 1,  2],\n",
       "       [ 1,  3],\n",
       "       [ 2,  4],\n",
       "       [ 3,  5],\n",
       "       [ 4,  6],\n",
       "       [ 5,  7],\n",
       "       [ 6,  2],\n",
       "       [ 7,  1],\n",
       "       [ 1,  2],\n",
       "       [ 2,  3],\n",
       "       [ 3,  4]], dtype=int64)"
      ]
     },
     "execution_count": 50,
     "metadata": {},
     "output_type": "execute_result"
    }
   ],
   "source": [
    "inputs"
   ]
  },
  {
   "cell_type": "code",
   "execution_count": 51,
   "id": "c7503b81",
   "metadata": {},
   "outputs": [
    {
     "data": {
      "text/plain": [
       "array([[1, 2]], dtype=int64)"
      ]
     },
     "execution_count": 51,
     "metadata": {},
     "output_type": "execute_result"
    }
   ],
   "source": [
    "\n",
    "#temp = arr('i', [1,2,3])\n",
    "temp = np.array([[1, 2]], dtype='int64')\n",
    "#np.array([1, 2, 3, 4], dtype='float32')\n",
    "temp"
   ]
  },
  {
   "cell_type": "code",
   "execution_count": 52,
   "id": "9ef3565e",
   "metadata": {
    "scrolled": false
   },
   "outputs": [
    {
     "data": {
      "text/plain": [
       "array([[1, 2]], dtype=int64)"
      ]
     },
     "execution_count": 52,
     "metadata": {},
     "output_type": "execute_result"
    }
   ],
   "source": [
    "\n",
    "\n",
    "#temp = inputs[:5]\n",
    "#np.shape(temp)\n",
    "#temp.shape\n",
    "#np.reshape(inputs, (4, 2))\n",
    "temp"
   ]
  },
  {
   "cell_type": "code",
   "execution_count": 53,
   "id": "c531e414",
   "metadata": {},
   "outputs": [
    {
     "name": "stdout",
     "output_type": "stream",
     "text": [
      "[[1 2]]\n"
     ]
    }
   ],
   "source": [
    "#temp = temp.reshape(temp.shape[0],2)\n",
    "temp\n",
    "print(f'{temp}')"
   ]
  },
  {
   "cell_type": "code",
   "execution_count": 54,
   "id": "37b3f506",
   "metadata": {},
   "outputs": [
    {
     "data": {
      "text/plain": [
       "<tf.Tensor: shape=(1, 1), dtype=float32, numpy=array([[-2.2969618]], dtype=float32)>"
      ]
     },
     "execution_count": 54,
     "metadata": {},
     "output_type": "execute_result"
    }
   ],
   "source": [
    "logits=model(temp,training=True)\n",
    "logits"
   ]
  },
  {
   "cell_type": "markdown",
   "id": "1ad8e1e1",
   "metadata": {},
   "source": [
    "# Construct and compile an instance of CustomModel\n",
    "\n",
    "#outputs = keras.layers.Dense(2)(inputs)\n",
    "#model = CustomModel(inputs, outputs)\n",
    "#model.compile(optimizer=\"adam\", loss=\"mse\", metrics=[\"mae\"])\n",
    "\n",
    "# Construct and compile an instance of CustomModel\n",
    "input_layer = keras.Input(shape=(2,))\n",
    "hidden_layer = keras.layers.Dense(2)(input_layer)\n",
    "output_layer = keras.layers.Dense(1)(hidden_layer)\n",
    "#model = CustomModel(input_layer, output_layer)\n",
    "model = keras.Model(input_layer, output_layer)\n",
    "#model.compile(optimizer=\"adam\", loss=\"mse\", metrics=[\"mae\"])\n",
    "\n",
    "# Just use `fit` as usual\n",
    "#x = np.random.random((1000, 32))\n",
    "#y = np.random.random((1000, 1))\n",
    "#model.fit(inputs, z, epochs=30)"
   ]
  },
  {
   "cell_type": "markdown",
   "id": "07b020d7",
   "metadata": {},
   "source": [
    "import time\n",
    "import random\n",
    "\n",
    "class custom_train:\n",
    "    \n",
    "    \n",
    "    def __init__(self, model, optimizer_fn, loss_fn, metric_fn):\n",
    "        self.model = model\n",
    "        self.optimizer = optimizer_fn\n",
    "        self.loss_fn = loss_fn\n",
    "        self.metrics = metric_fn\n",
    "\n",
    "    #tf.function\n",
    "    def test_step(self, x, y):\n",
    "        val_logits = model(x, training=False)\n",
    "        val_acc_metric.update_state(y, val_logits)\n",
    "\n",
    "    #tf.function\n",
    "    def train_step(self, x, y):\n",
    "        with tf.GradientTape() as tape:\n",
    "            #print(f'x:{x}, y:{y} {type(x)}')\n",
    "            logits = self.model(x, training=True)\n",
    "            loss_value = self.loss_fn(y, logits)\n",
    "        grads = tape.gradient(loss_value, self.model.trainable_weights)\n",
    "        self.optimizer.apply_gradients(zip(grads, self.model.trainable_weights))\n",
    "        self.metrics.update_state(y, logits)\n",
    "        return loss_value\n",
    "\n",
    "    def train(self, inputs, outputs, epochs, batch_size, batch_log, loss_threshold):\n",
    "        total_samples=inputs.shape[0]\n",
    "        \n",
    "        for epoch in range(epochs):\n",
    "            print(\"\\nStart of epoch %d\" % (epoch,))\n",
    "            start_time = time.time()\n",
    "          \n",
    "            # Iterate over the batches of the dataset.\n",
    "            for step in range(batch_size):\n",
    "                x = np.array([], dtype='int64')\n",
    "                y = np.array([], dtype='int64')\n",
    "                random_index = random.randint(0, total_samples -1)\n",
    "                x  = inputs[random_index]\n",
    "                y  = outputs[random_index]\n",
    "                #print(f'x:{x}, y:{y} {type(x)}')\n",
    "\n",
    "                #loss_value = self.train_step(x,y)\n",
    "                loss_value = self.train_step(inputs, outputs)\n",
    "                # Log every in batch_log.\n",
    "                if step % batch_log == 0:\n",
    "                    print(\n",
    "                        \"Training loss (for one batch) at step %d: %.4f\"\n",
    "                        % (step, float(loss_value))\n",
    "                    )\n",
    "                    print(\"Seen so far: %d samples\" % ((step + 1) * batch_size))\n",
    "\n",
    "            # Display metrics at the end of each epoch.\n",
    "            train_acc = self.metrics.result()\n",
    "            print(\"Training acc over epoch: %.4f\" % (float(train_acc),))\n",
    "            if loss_value <= loss_threshold:\n",
    "                break\n",
    "            # Reset training metrics at the end of each epoch\n",
    "            self.metrics.reset_states()\n",
    "            \n",
    "            cost_list.append(cost)\n",
    "            epoch_list.append(i)\n",
    "            \n",
    "    def validation(self, train_dataset, train_metric):\n",
    "        # Run a validation loop at the end of each epoch.\n",
    "        for x_batch_val, y_batch_val in val_dataset:\n",
    "            test_step(x_batch_val, y_batch_val)\n",
    "\n",
    "        val_acc = val_acc_metric.result()\n",
    "        val_acc_metric.reset_states()\n",
    "        print(\"Validation acc: %.4f\" % (float(val_acc),))\n",
    "        print(\"Time taken: %.2fs\" % (time.time() - start_time))"
   ]
  },
  {
   "cell_type": "code",
   "execution_count": 119,
   "id": "ca6b06d9",
   "metadata": {},
   "outputs": [],
   "source": [
    "# Construct and compile an instance of CustomModel\n",
    "\n",
    "#outputs = keras.layers.Dense(2)(inputs)\n",
    "#model = CustomModel(inputs, outputs)\n",
    "#model.compile(optimizer=\"adam\", loss=\"mse\", metrics=[\"mae\"])\n",
    "\n",
    "    \n",
    "\n",
    "#model.compile(optimizer=\"adam\", loss=\"mse\", metrics=[\"mae\"])\n",
    "\n",
    "# Just use `fit` as usual\n",
    "#x = np.random.random((1000, 32))\n",
    "#y = np.random.random((1000, 1))\n",
    "#model.fit(inputs, z, epochs=30)"
   ]
  },
  {
   "cell_type": "code",
   "execution_count": 122,
   "id": "09342390",
   "metadata": {},
   "outputs": [],
   "source": [
    "import time\n",
    "import random\n",
    "\n",
    "class custom_train:\n",
    "    \n",
    "    \n",
    "    def __init__(self, model, optimizer_fn, loss_fn, metric_fn):\n",
    "        self.model = model\n",
    "        self.optimizer = optimizer_fn\n",
    "        self.loss_fn = loss_fn\n",
    "        self.metrics = metric_fn\n",
    "\n",
    "    #tf.function\n",
    "    def test_step(self, x, y):\n",
    "        val_logits = model(x, training=False)\n",
    "        val_acc_metric.update_state(y, val_logits)\n",
    "\n",
    "    #tf.function\n",
    "    def train_step(self, x, y):\n",
    "        with tf.GradientTape() as tape:\n",
    "            #print(f'x:{x}, y:{y} {type(x)}')\n",
    "            logits = self.model(x, training=True)\n",
    "            loss_value = self.loss_fn(y, logits)\n",
    "        grads = tape.gradient(loss_value, self.model.trainable_weights)\n",
    "        self.optimizer.apply_gradients(zip(grads, self.model.trainable_weights))\n",
    "        self.metrics.update_state(y, logits)\n",
    "        return loss_value\n",
    "\n",
    "    def train(self, inputs, outputs, epochs, batch_size, batch_log, loss_threshold):\n",
    "        loss_list = []\n",
    "        epoch_list = []\n",
    "        start_time = time.time()\n",
    "        for epoch in range(epochs):\n",
    "            loss_value = self.train_step(inputs, outputs)\n",
    "            \n",
    "            # Display metrics at the end of each epoch.\n",
    "            train_acc = self.metrics.result()\n",
    "            \n",
    "            if epoch%50==0:\n",
    "                loss_list.append(loss_value)\n",
    "                epoch_list.append(epoch)\n",
    "                print(\n",
    "                    \"Training acc over epoch: %.4f Training loss (for one batch) at step %d: %.4f Time taken: %.2fs \" \n",
    "                    % (float(train_acc), epoch, float(loss_value), (time.time() - start_time))\n",
    "                )\n",
    "            if loss_value <= loss_threshold:\n",
    "                break\n",
    "            # Reset training metrics at the end of each epoch\n",
    "            self.metrics.reset_states()\n",
    "            \n",
    "        return loss_list, epoch_list\n",
    "    \n",
    "    def validation(self, train_dataset, train_metric):\n",
    "        # Run a validation loop at the end of each epoch.\n",
    "        for x_batch_val, y_batch_val in val_dataset:\n",
    "            test_step(x_batch_val, y_batch_val)\n",
    "\n",
    "        val_acc = val_acc_metric.result()\n",
    "        val_acc_metric.reset_states()\n",
    "        print(\"Validation acc: %.4f\" % (float(val_acc),))\n",
    "        print(\"Time taken: %.2fs\" % (time.time() - start_time))"
   ]
  },
  {
   "cell_type": "code",
   "execution_count": 123,
   "id": "a49a20b2",
   "metadata": {},
   "outputs": [
    {
     "name": "stdout",
     "output_type": "stream",
     "text": [
      "Training acc over epoch: 19.0219 Training loss (for one batch) at step 0: 574.2057 Time taken: 0.02s \n",
      "Training acc over epoch: 18.0731 Training loss (for one batch) at step 50: 525.1398 Time taken: 0.63s \n",
      "Training acc over epoch: 17.0002 Training loss (for one batch) at step 100: 472.6606 Time taken: 1.31s \n",
      "Training acc over epoch: 15.8090 Training loss (for one batch) at step 150: 417.6745 Time taken: 1.91s \n",
      "Training acc over epoch: 14.5136 Training loss (for one batch) at step 200: 361.7417 Time taken: 2.53s \n",
      "Training acc over epoch: 13.1332 Training loss (for one batch) at step 250: 306.6383 Time taken: 3.12s \n",
      "Training acc over epoch: 11.6919 Training loss (for one batch) at step 300: 254.1489 Time taken: 3.74s \n",
      "Training acc over epoch: 10.2188 Training loss (for one batch) at step 350: 205.8872 Time taken: 4.38s \n",
      "Training acc over epoch: 8.7464 Training loss (for one batch) at step 400: 163.1383 Time taken: 5.01s \n",
      "Training acc over epoch: 7.4420 Training loss (for one batch) at step 450: 126.7348 Time taken: 5.67s \n",
      "Training acc over epoch: 6.3942 Training loss (for one batch) at step 500: 96.9870 Time taken: 6.30s \n",
      "Training acc over epoch: 5.5212 Training loss (for one batch) at step 550: 73.6841 Time taken: 6.85s \n",
      "Training acc over epoch: 4.7601 Training loss (for one batch) at step 600: 56.1719 Time taken: 7.41s \n",
      "Training acc over epoch: 4.0846 Training loss (for one batch) at step 650: 43.4961 Time taken: 7.97s \n",
      "Training acc over epoch: 3.5010 Training loss (for one batch) at step 700: 34.5785 Time taken: 8.55s \n",
      "Training acc over epoch: 3.0189 Training loss (for one batch) at step 750: 28.3827 Time taken: 9.12s \n",
      "Training acc over epoch: 2.7620 Training loss (for one batch) at step 800: 24.0328 Time taken: 9.78s \n",
      "Training acc over epoch: 2.6105 Training loss (for one batch) at step 850: 20.8664 Time taken: 10.34s \n",
      "Training acc over epoch: 2.4683 Training loss (for one batch) at step 900: 18.4291 Time taken: 10.91s \n",
      "Training acc over epoch: 2.3344 Training loss (for one batch) at step 950: 16.4356 Time taken: 11.50s \n",
      "Training acc over epoch: 2.2136 Training loss (for one batch) at step 1000: 14.7204 Time taken: 12.07s \n",
      "Training acc over epoch: 2.1019 Training loss (for one batch) at step 1050: 13.1930 Time taken: 12.65s \n",
      "Training acc over epoch: 1.9918 Training loss (for one batch) at step 1100: 11.8066 Time taken: 13.28s \n",
      "Training acc over epoch: 1.8837 Training loss (for one batch) at step 1150: 10.5375 Time taken: 13.89s \n",
      "Training acc over epoch: 1.7812 Training loss (for one batch) at step 1200: 9.3732 Time taken: 14.44s \n",
      "Training acc over epoch: 1.6823 Training loss (for one batch) at step 1250: 8.3063 Time taken: 15.01s \n",
      "Training acc over epoch: 1.5847 Training loss (for one batch) at step 1300: 7.3316 Time taken: 15.58s \n",
      "Training acc over epoch: 1.4889 Training loss (for one batch) at step 1350: 6.4445 Time taken: 16.19s \n",
      "Training acc over epoch: 1.3954 Training loss (for one batch) at step 1400: 5.6406 Time taken: 16.81s \n",
      "Training acc over epoch: 1.3046 Training loss (for one batch) at step 1450: 4.9153 Time taken: 17.40s \n",
      "Training acc over epoch: 1.2173 Training loss (for one batch) at step 1500: 4.2640 Time taken: 18.00s \n",
      "Training acc over epoch: 1.1333 Training loss (for one batch) at step 1550: 3.6820 Time taken: 18.57s \n",
      "Training acc over epoch: 1.0526 Training loss (for one batch) at step 1600: 3.1644 Time taken: 19.19s \n",
      "Training acc over epoch: 0.9753 Training loss (for one batch) at step 1650: 2.7066 Time taken: 19.84s \n",
      "Training acc over epoch: 0.9016 Training loss (for one batch) at step 1700: 2.3036 Time taken: 20.45s \n",
      "Training acc over epoch: 0.8315 Training loss (for one batch) at step 1750: 1.9508 Time taken: 21.10s \n",
      "Training acc over epoch: 0.7649 Training loss (for one batch) at step 1800: 1.6436 Time taken: 21.82s \n",
      "Training acc over epoch: 0.7019 Training loss (for one batch) at step 1850: 1.3777 Time taken: 22.40s \n",
      "Training acc over epoch: 0.6425 Training loss (for one batch) at step 1900: 1.1487 Time taken: 22.97s \n",
      "Training acc over epoch: 0.5866 Training loss (for one batch) at step 1950: 0.9527 Time taken: 23.59s \n",
      "Training acc over epoch: 0.5342 Training loss (for one batch) at step 2000: 0.7860 Time taken: 24.16s \n",
      "Training acc over epoch: 0.4861 Training loss (for one batch) at step 2050: 0.6450 Time taken: 24.73s \n",
      "Training acc over epoch: 0.4422 Training loss (for one batch) at step 2100: 0.5266 Time taken: 25.33s \n",
      "Training acc over epoch: 0.4014 Training loss (for one batch) at step 2150: 0.4276 Time taken: 25.94s \n",
      "Training acc over epoch: 0.3637 Training loss (for one batch) at step 2200: 0.3456 Time taken: 26.53s \n",
      "Training acc over epoch: 0.3288 Training loss (for one batch) at step 2250: 0.2779 Time taken: 27.14s \n",
      "Training acc over epoch: 0.2969 Training loss (for one batch) at step 2300: 0.2225 Time taken: 27.73s \n",
      "Training acc over epoch: 0.2690 Training loss (for one batch) at step 2350: 0.1774 Time taken: 28.32s \n",
      "Training acc over epoch: 0.2454 Training loss (for one batch) at step 2400: 0.1410 Time taken: 28.88s \n",
      "Training acc over epoch: 0.2238 Training loss (for one batch) at step 2450: 0.1118 Time taken: 29.49s \n",
      "Training acc over epoch: 0.2042 Training loss (for one batch) at step 2500: 0.0885 Time taken: 30.14s \n",
      "Training acc over epoch: 0.1864 Training loss (for one batch) at step 2550: 0.0701 Time taken: 30.71s \n",
      "Training acc over epoch: 0.1703 Training loss (for one batch) at step 2600: 0.0555 Time taken: 31.28s \n",
      "Training acc over epoch: 0.1557 Training loss (for one batch) at step 2650: 0.0442 Time taken: 31.88s \n",
      "Training acc over epoch: 0.1433 Training loss (for one batch) at step 2700: 0.0353 Time taken: 32.51s \n",
      "Training acc over epoch: 0.1323 Training loss (for one batch) at step 2750: 0.0285 Time taken: 33.08s \n",
      "Training acc over epoch: 0.1223 Training loss (for one batch) at step 2800: 0.0232 Time taken: 33.85s \n",
      "Training acc over epoch: 0.1134 Training loss (for one batch) at step 2850: 0.0191 Time taken: 34.55s \n",
      "Training acc over epoch: 0.1053 Training loss (for one batch) at step 2900: 0.0160 Time taken: 35.24s \n",
      "Training acc over epoch: 0.0981 Training loss (for one batch) at step 2950: 0.0136 Time taken: 35.87s \n",
      "Training acc over epoch: 0.0917 Training loss (for one batch) at step 3000: 0.0117 Time taken: 36.52s \n",
      "Training acc over epoch: 0.0859 Training loss (for one batch) at step 3050: 0.0103 Time taken: 37.18s \n"
     ]
    }
   ],
   "source": [
    "# Construct and compile an instance of CustomModel\n",
    "input_layer = keras.Input(shape=(2,))\n",
    "hidden_layer = keras.layers.Dense(2)(input_layer)\n",
    "output_layer = keras.layers.Dense(1)(hidden_layer)\n",
    "#model = CustomModel(input_layer, output_layer)\n",
    "#%%timeit -n1 -r1\n",
    "with tf.device('/GPU:0'):\n",
    "    #cpu_model.fit(x_train_scaled, y_train_categorical, epochs=1)\n",
    "    model = keras.Model(input_layer, output_layer)\n",
    "    optimizer = tf.keras.optimizers.Adam()\n",
    "    loss_function = tf.keras.losses.MeanSquaredError(reduction=\"auto\", name=\"mean_squared_error\")\n",
    "    metric = tf.keras.metrics.MeanAbsoluteError()\n",
    "    my_train = custom_train(model, optimizer, loss_function, metric)\n",
    "    loss_list, epoch_list = my_train.train(inputs, z, 5000, 15, 5, 0.01)\n"
   ]
  },
  {
   "cell_type": "code",
   "execution_count": 124,
   "id": "c4e326cf",
   "metadata": {},
   "outputs": [
    {
     "data": {
      "text/plain": [
       "[<matplotlib.lines.Line2D at 0x1b47869cfd0>]"
      ]
     },
     "execution_count": 124,
     "metadata": {},
     "output_type": "execute_result"
    },
    {
     "data": {
      "image/png": "[encoded data removed]",
      "text/plain": [
       "<Figure size 640x480 with 1 Axes>"
      ]
     },
     "metadata": {},
     "output_type": "display_data"
    }
   ],
   "source": [
    "plt.xlabel(\"epoch\")\n",
    "plt.ylabel(\"loss\")\n",
    "plt.plot(epoch_list, loss_list)\n"
   ]
  },
  {
   "cell_type": "code",
   "execution_count": 129,
   "id": "d354460d",
   "metadata": {},
   "outputs": [],
   "source": [
    "temp = np.array([[3, 2]], dtype='int64')"
   ]
  },
  {
   "cell_type": "code",
   "execution_count": 130,
   "id": "b2e00347",
   "metadata": {
    "scrolled": true
   },
   "outputs": [
    {
     "name": "stdout",
     "output_type": "stream",
     "text": [
      "1/1 [==============================] - 0s 16ms/step\n"
     ]
    },
    {
     "data": {
      "text/plain": [
       "array([[13.968765]], dtype=float32)"
      ]
     },
     "execution_count": 130,
     "metadata": {},
     "output_type": "execute_result"
    }
   ],
   "source": [
    "model.predict(temp)"
   ]
  },
  {
   "cell_type": "code",
   "execution_count": null,
   "id": "1bc2d85f",
   "metadata": {},
   "outputs": [],
   "source": [
    "#z=x*2+y*3+2"
   ]
  }
 ],
 "metadata": {
  "kernelspec": {
   "display_name": "Python 3 (ipykernel)",
   "language": "python",
   "name": "python3"
  },
  "language_info": {
   "codemirror_mode": {
    "name": "ipython",
    "version": 3
   },
   "file_extension": ".py",
   "mimetype": "text/x-python",
   "name": "python",
   "nbconvert_exporter": "python",
   "pygments_lexer": "ipython3",
   "version": "3.9.13"
  }
 },
 "nbformat": 4,
 "nbformat_minor": 5
}
