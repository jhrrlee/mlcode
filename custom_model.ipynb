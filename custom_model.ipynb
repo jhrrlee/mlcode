{
 "cells": [
  {
   "cell_type": "markdown",
   "id": "00e555c0",
   "metadata": {},
   "source": [
    "# Custom batch model"
   ]
  },
  {
   "cell_type": "code",
   "execution_count": 1,
   "id": "1086a5be",
   "metadata": {},
   "outputs": [],
   "source": [
    "import tensorflow as tf\n",
    "from tensorflow import keras\n",
    "from tensorflow.keras import layers\n",
    "import pandas as pd\n",
    "import matplotlib.pyplot as plt\n",
    "import numpy as np\n",
    "from sklearn import preprocessing"
   ]
  },
  {
   "cell_type": "code",
   "execution_count": 2,
   "id": "a93ed611",
   "metadata": {
    "scrolled": true
   },
   "outputs": [
    {
     "data": {
      "text/html": [
       "<div>\n",
       "<style scoped>\n",
       "    .dataframe tbody tr th:only-of-type {\n",
       "        vertical-align: middle;\n",
       "    }\n",
       "\n",
       "    .dataframe tbody tr th {\n",
       "        vertical-align: top;\n",
       "    }\n",
       "\n",
       "    .dataframe thead th {\n",
       "        text-align: right;\n",
       "    }\n",
       "</style>\n",
       "<table border=\"1\" class=\"dataframe\">\n",
       "  <thead>\n",
       "    <tr style=\"text-align: right;\">\n",
       "      <th></th>\n",
       "      <th>x</th>\n",
       "      <th>y</th>\n",
       "      <th>z</th>\n",
       "    </tr>\n",
       "  </thead>\n",
       "  <tbody>\n",
       "    <tr>\n",
       "      <th>13</th>\n",
       "      <td>5</td>\n",
       "      <td>7</td>\n",
       "      <td>33</td>\n",
       "    </tr>\n",
       "    <tr>\n",
       "      <th>2</th>\n",
       "      <td>2</td>\n",
       "      <td>2</td>\n",
       "      <td>12</td>\n",
       "    </tr>\n",
       "    <tr>\n",
       "      <th>14</th>\n",
       "      <td>6</td>\n",
       "      <td>2</td>\n",
       "      <td>20</td>\n",
       "    </tr>\n",
       "    <tr>\n",
       "      <th>12</th>\n",
       "      <td>4</td>\n",
       "      <td>6</td>\n",
       "      <td>28</td>\n",
       "    </tr>\n",
       "    <tr>\n",
       "      <th>8</th>\n",
       "      <td>1</td>\n",
       "      <td>2</td>\n",
       "      <td>10</td>\n",
       "    </tr>\n",
       "  </tbody>\n",
       "</table>\n",
       "</div>"
      ],
      "text/plain": [
       "    x  y   z\n",
       "13  5  7  33\n",
       "2   2  2  12\n",
       "14  6  2  20\n",
       "12  4  6  28\n",
       "8   1  2  10"
      ]
     },
     "execution_count": 2,
     "metadata": {},
     "output_type": "execute_result"
    }
   ],
   "source": [
    "bs = pd.read_csv(\"basic_sample.csv\") #z=x*2+y*3+2\n",
    "bs.sample(5)"
   ]
  },
  {
   "cell_type": "code",
   "execution_count": 3,
   "id": "6d3a7fc7",
   "metadata": {
    "scrolled": true
   },
   "outputs": [
    {
     "name": "stdout",
     "output_type": "stream",
     "text": [
      "    x   y\n",
      "0   1   1\n",
      "1   2   2\n",
      "2   2   2\n",
      "3   3   3\n",
      "4   4   4\n",
      "5   5   5\n",
      "6   6  21\n",
      "7   7   1\n",
      "8   1   2\n",
      "9   1   3\n",
      "10  2   4\n",
      "11  3   5\n",
      "12  4   6\n",
      "13  5   7\n",
      "14  6   2\n",
      "15  7   1\n",
      "16  1   2\n",
      "17  2   3\n",
      "18  3   4\n",
      "(19, 2)\n"
     ]
    }
   ],
   "source": [
    "inputs = bs.drop('z', axis='columns')\n",
    "print(inputs)\n",
    "print(inputs.shape)"
   ]
  },
  {
   "cell_type": "code",
   "execution_count": 4,
   "id": "0b08d643",
   "metadata": {},
   "outputs": [],
   "source": [
    "inputs = inputs.values.reshape(bs.shape[0],2)"
   ]
  },
  {
   "cell_type": "code",
   "execution_count": 5,
   "id": "73545be1",
   "metadata": {},
   "outputs": [
    {
     "data": {
      "text/plain": [
       "array([[ 1,  1],\n",
       "       [ 2,  2],\n",
       "       [ 2,  2],\n",
       "       [ 3,  3],\n",
       "       [ 4,  4],\n",
       "       [ 5,  5],\n",
       "       [ 6, 21],\n",
       "       [ 7,  1],\n",
       "       [ 1,  2],\n",
       "       [ 1,  3],\n",
       "       [ 2,  4],\n",
       "       [ 3,  5],\n",
       "       [ 4,  6],\n",
       "       [ 5,  7],\n",
       "       [ 6,  2],\n",
       "       [ 7,  1],\n",
       "       [ 1,  2],\n",
       "       [ 2,  3],\n",
       "       [ 3,  4]], dtype=int64)"
      ]
     },
     "execution_count": 5,
     "metadata": {},
     "output_type": "execute_result"
    }
   ],
   "source": [
    "inputs"
   ]
  },
  {
   "cell_type": "code",
   "execution_count": 6,
   "id": "6179cc27",
   "metadata": {},
   "outputs": [
    {
     "data": {
      "text/plain": [
       "array([[ 7],\n",
       "       [12],\n",
       "       [12],\n",
       "       [17],\n",
       "       [22],\n",
       "       [27],\n",
       "       [77],\n",
       "       [19],\n",
       "       [10],\n",
       "       [13],\n",
       "       [18],\n",
       "       [23],\n",
       "       [28],\n",
       "       [33],\n",
       "       [20],\n",
       "       [19],\n",
       "       [10],\n",
       "       [15],\n",
       "       [20]], dtype=int64)"
      ]
     },
     "execution_count": 6,
     "metadata": {},
     "output_type": "execute_result"
    }
   ],
   "source": [
    "z = bs['z'].values.reshape(bs.shape[0],1)\n",
    "z"
   ]
  },
  {
   "cell_type": "code",
   "execution_count": 7,
   "id": "373923ae",
   "metadata": {
    "scrolled": true
   },
   "outputs": [
    {
     "data": {
      "text/plain": [
       "(19, 1)"
      ]
     },
     "execution_count": 7,
     "metadata": {},
     "output_type": "execute_result"
    }
   ],
   "source": [
    "z.shape"
   ]
  },
  {
   "cell_type": "code",
   "execution_count": 8,
   "id": "09342390",
   "metadata": {},
   "outputs": [],
   "source": [
    "import time\n",
    "\n",
    "class custom_train:\n",
    "    \n",
    "    \n",
    "    def __init__(self, model, optimizer_fn, loss_fn, metric_fn):\n",
    "        self.model = model\n",
    "        self.optimizer = optimizer_fn\n",
    "        self.loss_fn = loss_fn\n",
    "        self.metrics = metric_fn\n",
    "\n",
    "    #tf.function\n",
    "    def train_step(self, x, y):\n",
    "        with tf.GradientTape() as tape:\n",
    "            #print(f'x:{x}, y:{y} {type(x)}')\n",
    "            logits = self.model(x, training=True)\n",
    "            loss_value = self.loss_fn(y, logits)\n",
    "        grads = tape.gradient(loss_value, self.model.trainable_weights)\n",
    "        self.optimizer.apply_gradients(zip(grads, self.model.trainable_weights))\n",
    "        self.metrics.update_state(y, logits)\n",
    "        return loss_value\n",
    "\n",
    "    def train(self, inputs, outputs, epochs, epoch_log, loss_threshold):\n",
    "        loss_list = []\n",
    "        epoch_list = []\n",
    "        start_time = time.time()\n",
    "        for epoch in range(epochs):\n",
    "            loss_value = self.train_step(inputs, outputs)\n",
    "            \n",
    "            # Display metrics at the end of each epoch.\n",
    "            train_acc = self.metrics.result()\n",
    "            \n",
    "            if epoch%epoch_log==0:\n",
    "                loss_list.append(loss_value)\n",
    "                epoch_list.append(epoch)\n",
    "                print(\n",
    "                    \"Training acc over epoch: %.4f Training loss (for one batch) at step %d: %.4f Time taken: %.2fs \" \n",
    "                    % (float(train_acc), epoch, float(loss_value), (time.time() - start_time))\n",
    "                )\n",
    "            if loss_value <= loss_threshold:\n",
    "                break\n",
    "            # Reset training metrics at the end of each epoch\n",
    "            self.metrics.reset_states()\n",
    "            \n",
    "        return loss_list, epoch_list"
   ]
  },
  {
   "cell_type": "code",
   "execution_count": 9,
   "id": "a49a20b2",
   "metadata": {},
   "outputs": [
    {
     "name": "stdout",
     "output_type": "stream",
     "text": [
      "Training acc over epoch: 20.7631 Training loss (for one batch) at step 0: 682.2684 Time taken: 0.89s \n",
      "Training acc over epoch: 19.4842 Training loss (for one batch) at step 50: 609.6435 Time taken: 1.48s \n",
      "Training acc over epoch: 18.2279 Training loss (for one batch) at step 100: 542.5945 Time taken: 2.05s \n",
      "Training acc over epoch: 16.9868 Training loss (for one batch) at step 150: 480.4633 Time taken: 2.56s \n",
      "Training acc over epoch: 15.7503 Training loss (for one batch) at step 200: 422.5603 Time taken: 3.08s \n",
      "Training acc over epoch: 14.5090 Training loss (for one batch) at step 250: 368.3820 Time taken: 3.61s \n",
      "Training acc over epoch: 13.2548 Training loss (for one batch) at step 300: 317.6168 Time taken: 4.13s \n",
      "Training acc over epoch: 11.9826 Training loss (for one batch) at step 350: 270.1801 Time taken: 4.63s \n",
      "Training acc over epoch: 10.6926 Training loss (for one batch) at step 400: 226.2448 Time taken: 5.13s \n",
      "Training acc over epoch: 9.3923 Training loss (for one batch) at step 450: 186.2122 Time taken: 5.63s \n",
      "Training acc over epoch: 8.0970 Training loss (for one batch) at step 500: 150.5938 Time taken: 6.12s \n",
      "Training acc over epoch: 7.1021 Training loss (for one batch) at step 550: 119.8406 Time taken: 6.63s \n",
      "Training acc over epoch: 6.1688 Training loss (for one batch) at step 600: 94.1876 Time taken: 7.14s \n",
      "Training acc over epoch: 5.4087 Training loss (for one batch) at step 650: 73.5660 Time taken: 7.67s \n",
      "Training acc over epoch: 4.7059 Training loss (for one batch) at step 700: 57.5976 Time taken: 8.16s \n",
      "Training acc over epoch: 4.0717 Training loss (for one batch) at step 750: 45.6599 Time taken: 8.66s \n",
      "Training acc over epoch: 3.5254 Training loss (for one batch) at step 800: 36.9928 Time taken: 9.15s \n",
      "Training acc over epoch: 3.0964 Training loss (for one batch) at step 850: 30.8147 Time taken: 9.67s \n",
      "Training acc over epoch: 2.8590 Training loss (for one batch) at step 900: 26.4177 Time taken: 10.18s \n",
      "Training acc over epoch: 2.7188 Training loss (for one batch) at step 950: 23.2244 Time taken: 10.70s \n",
      "Training acc over epoch: 2.5884 Training loss (for one batch) at step 1000: 20.8056 Time taken: 11.22s \n",
      "Training acc over epoch: 2.4714 Training loss (for one batch) at step 1050: 18.8672 Time taken: 11.71s \n",
      "Training acc over epoch: 2.3762 Training loss (for one batch) at step 1100: 17.2225 Time taken: 12.20s \n",
      "Training acc over epoch: 2.2880 Training loss (for one batch) at step 1150: 15.7607 Time taken: 12.70s \n",
      "Training acc over epoch: 2.1974 Training loss (for one batch) at step 1200: 14.4204 Time taken: 13.20s \n",
      "Training acc over epoch: 2.1120 Training loss (for one batch) at step 1250: 13.1699 Time taken: 13.69s \n",
      "Training acc over epoch: 2.0264 Training loss (for one batch) at step 1300: 11.9936 Time taken: 14.24s \n",
      "Training acc over epoch: 1.9386 Training loss (for one batch) at step 1350: 10.8848 Time taken: 14.73s \n",
      "Training acc over epoch: 1.8498 Training loss (for one batch) at step 1400: 9.8407 Time taken: 15.23s \n",
      "Training acc over epoch: 1.7602 Training loss (for one batch) at step 1450: 8.8604 Time taken: 15.74s \n",
      "Training acc over epoch: 1.6713 Training loss (for one batch) at step 1500: 7.9435 Time taken: 16.28s \n",
      "Training acc over epoch: 1.5822 Training loss (for one batch) at step 1550: 7.0897 Time taken: 16.81s \n",
      "Training acc over epoch: 1.4936 Training loss (for one batch) at step 1600: 6.2983 Time taken: 17.37s \n",
      "Training acc over epoch: 1.4062 Training loss (for one batch) at step 1650: 5.5683 Time taken: 17.98s \n",
      "Training acc over epoch: 1.3210 Training loss (for one batch) at step 1700: 4.8986 Time taken: 18.56s \n",
      "Training acc over epoch: 1.2377 Training loss (for one batch) at step 1750: 4.2873 Time taken: 19.08s \n",
      "Training acc over epoch: 1.1564 Training loss (for one batch) at step 1800: 3.7325 Time taken: 19.58s \n",
      "Training acc over epoch: 1.0775 Training loss (for one batch) at step 1850: 3.2319 Time taken: 20.09s \n",
      "Training acc over epoch: 1.0011 Training loss (for one batch) at step 1900: 2.7827 Time taken: 20.59s \n",
      "Training acc over epoch: 0.9275 Training loss (for one batch) at step 1950: 2.3822 Time taken: 21.16s \n",
      "Training acc over epoch: 0.8566 Training loss (for one batch) at step 2000: 2.0273 Time taken: 21.67s \n",
      "Training acc over epoch: 0.7888 Training loss (for one batch) at step 2050: 1.7149 Time taken: 22.18s \n",
      "Training acc over epoch: 0.7241 Training loss (for one batch) at step 2100: 1.4417 Time taken: 22.81s \n",
      "Training acc over epoch: 0.6625 Training loss (for one batch) at step 2150: 1.2044 Time taken: 23.37s \n",
      "Training acc over epoch: 0.6043 Training loss (for one batch) at step 2200: 0.9996 Time taken: 23.92s \n",
      "Training acc over epoch: 0.5493 Training loss (for one batch) at step 2250: 0.8243 Time taken: 24.48s \n",
      "Training acc over epoch: 0.4976 Training loss (for one batch) at step 2300: 0.6752 Time taken: 24.99s \n",
      "Training acc over epoch: 0.4493 Training loss (for one batch) at step 2350: 0.5493 Time taken: 25.53s \n",
      "Training acc over epoch: 0.4043 Training loss (for one batch) at step 2400: 0.4439 Time taken: 26.04s \n",
      "Training acc over epoch: 0.3624 Training loss (for one batch) at step 2450: 0.3563 Time taken: 26.55s \n",
      "Training acc over epoch: 0.3240 Training loss (for one batch) at step 2500: 0.2840 Time taken: 27.05s \n",
      "Training acc over epoch: 0.2892 Training loss (for one batch) at step 2550: 0.2248 Time taken: 27.58s \n",
      "Training acc over epoch: 0.2572 Training loss (for one batch) at step 2600: 0.1768 Time taken: 28.11s \n",
      "Training acc over epoch: 0.2280 Training loss (for one batch) at step 2650: 0.1381 Time taken: 28.62s \n",
      "Training acc over epoch: 0.2024 Training loss (for one batch) at step 2700: 0.1072 Time taken: 29.14s \n",
      "Training acc over epoch: 0.1794 Training loss (for one batch) at step 2750: 0.0827 Time taken: 29.67s \n",
      "Training acc over epoch: 0.1587 Training loss (for one batch) at step 2800: 0.0635 Time taken: 30.20s \n",
      "Training acc over epoch: 0.1401 Training loss (for one batch) at step 2850: 0.0485 Time taken: 30.74s \n",
      "Training acc over epoch: 0.1235 Training loss (for one batch) at step 2900: 0.0369 Time taken: 31.31s \n",
      "Training acc over epoch: 0.1103 Training loss (for one batch) at step 2950: 0.0280 Time taken: 31.83s \n",
      "Training acc over epoch: 0.0990 Training loss (for one batch) at step 3000: 0.0212 Time taken: 32.37s \n",
      "Training acc over epoch: 0.0889 Training loss (for one batch) at step 3050: 0.0161 Time taken: 32.93s \n",
      "Training acc over epoch: 0.0799 Training loss (for one batch) at step 3100: 0.0123 Time taken: 33.51s \n"
     ]
    }
   ],
   "source": [
    "input_layer = keras.Input(shape=(2,))\n",
    "hidden_layer = keras.layers.Dense(2)(input_layer)\n",
    "output_layer = keras.layers.Dense(1)(hidden_layer)\n",
    "\n",
    "model = keras.Model(input_layer, output_layer)\n",
    "optimizer = tf.keras.optimizers.Adam()\n",
    "loss_function = tf.keras.losses.MeanSquaredError(reduction=\"auto\", name=\"mean_squared_error\")\n",
    "metric = tf.keras.metrics.MeanAbsoluteError()\n",
    "my_train = custom_train(model, optimizer, loss_function, metric)\n",
    "loss_list, epoch_list = my_train.train(inputs, z, 5000, 50, 0.01)\n"
   ]
  },
  {
   "cell_type": "code",
   "execution_count": 10,
   "id": "c4e326cf",
   "metadata": {},
   "outputs": [
    {
     "data": {
      "text/plain": [
       "[<matplotlib.lines.Line2D at 0x2010848c7f0>]"
      ]
     },
     "execution_count": 10,
     "metadata": {},
     "output_type": "execute_result"
    },
    {
     "data": {
      "image/png": "[encoded data removed]",
      "text/plain": [
       "<Figure size 640x480 with 1 Axes>"
      ]
     },
     "metadata": {},
     "output_type": "display_data"
    }
   ],
   "source": [
    "plt.xlabel(\"epoch\")\n",
    "plt.ylabel(\"loss\")\n",
    "plt.plot(epoch_list, loss_list)\n"
   ]
  },
  {
   "cell_type": "code",
   "execution_count": 11,
   "id": "d354460d",
   "metadata": {},
   "outputs": [],
   "source": [
    "temp = np.array([[3, 2]], dtype='int64')"
   ]
  },
  {
   "cell_type": "code",
   "execution_count": 12,
   "id": "b2e00347",
   "metadata": {
    "scrolled": true
   },
   "outputs": [
    {
     "name": "stdout",
     "output_type": "stream",
     "text": [
      "1/1 [==============================] - 0s 75ms/step\n"
     ]
    },
    {
     "data": {
      "text/plain": [
       "array([[14.019831]], dtype=float32)"
      ]
     },
     "execution_count": 12,
     "metadata": {},
     "output_type": "execute_result"
    }
   ],
   "source": [
    "model.predict(temp)"
   ]
  },
  {
   "cell_type": "code",
   "execution_count": null,
   "id": "f10e393f",
   "metadata": {},
   "outputs": [],
   "source": []
  }
 ],
 "metadata": {
  "kernelspec": {
   "display_name": "Python 3 (ipykernel)",
   "language": "python",
   "name": "python3"
  },
  "language_info": {
   "codemirror_mode": {
    "name": "ipython",
    "version": 3
   },
   "file_extension": ".py",
   "mimetype": "text/x-python",
   "name": "python",
   "nbconvert_exporter": "python",
   "pygments_lexer": "ipython3",
   "version": "3.9.13"
  }
 },
 "nbformat": 4,
 "nbformat_minor": 5
}
