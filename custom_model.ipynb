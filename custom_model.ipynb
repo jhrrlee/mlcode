{
 "cells": [
  {
   "cell_type": "markdown",
   "id": "00e555c0",
   "metadata": {},
   "source": [
    "# Custom batch model"
   ]
  },
  {
   "cell_type": "code",
   "execution_count": 1,
   "id": "1086a5be",
   "metadata": {},
   "outputs": [],
   "source": [
    "import tensorflow as tf\n",
    "from tensorflow import keras\n",
    "from tensorflow.keras import layers\n",
    "import pandas as pd\n",
    "import matplotlib.pyplot as plt\n",
    "import numpy as np\n",
    "from sklearn import preprocessing"
   ]
  },
  {
   "cell_type": "code",
   "execution_count": 2,
   "id": "a93ed611",
   "metadata": {
    "scrolled": true
   },
   "outputs": [
    {
     "data": {
      "text/html": [
       "<div>\n",
       "<style scoped>\n",
       "    .dataframe tbody tr th:only-of-type {\n",
       "        vertical-align: middle;\n",
       "    }\n",
       "\n",
       "    .dataframe tbody tr th {\n",
       "        vertical-align: top;\n",
       "    }\n",
       "\n",
       "    .dataframe thead th {\n",
       "        text-align: right;\n",
       "    }\n",
       "</style>\n",
       "<table border=\"1\" class=\"dataframe\">\n",
       "  <thead>\n",
       "    <tr style=\"text-align: right;\">\n",
       "      <th></th>\n",
       "      <th>x</th>\n",
       "      <th>y</th>\n",
       "      <th>z</th>\n",
       "    </tr>\n",
       "  </thead>\n",
       "  <tbody>\n",
       "    <tr>\n",
       "      <th>6</th>\n",
       "      <td>6</td>\n",
       "      <td>21</td>\n",
       "      <td>77</td>\n",
       "    </tr>\n",
       "    <tr>\n",
       "      <th>2</th>\n",
       "      <td>2</td>\n",
       "      <td>2</td>\n",
       "      <td>12</td>\n",
       "    </tr>\n",
       "    <tr>\n",
       "      <th>15</th>\n",
       "      <td>7</td>\n",
       "      <td>1</td>\n",
       "      <td>19</td>\n",
       "    </tr>\n",
       "    <tr>\n",
       "      <th>12</th>\n",
       "      <td>4</td>\n",
       "      <td>6</td>\n",
       "      <td>28</td>\n",
       "    </tr>\n",
       "    <tr>\n",
       "      <th>5</th>\n",
       "      <td>5</td>\n",
       "      <td>5</td>\n",
       "      <td>27</td>\n",
       "    </tr>\n",
       "  </tbody>\n",
       "</table>\n",
       "</div>"
      ],
      "text/plain": [
       "    x   y   z\n",
       "6   6  21  77\n",
       "2   2   2  12\n",
       "15  7   1  19\n",
       "12  4   6  28\n",
       "5   5   5  27"
      ]
     },
     "execution_count": 2,
     "metadata": {},
     "output_type": "execute_result"
    }
   ],
   "source": [
    "bs = pd.read_csv(\"basic_sample.csv\") #z=x*2+y*3+2\n",
    "bs.sample(5)"
   ]
  },
  {
   "cell_type": "code",
   "execution_count": 3,
   "id": "6d3a7fc7",
   "metadata": {},
   "outputs": [
    {
     "data": {
      "text/plain": [
       "array([[ 1,  1],\n",
       "       [ 2,  2],\n",
       "       [ 2,  2],\n",
       "       [ 3,  3],\n",
       "       [ 4,  4],\n",
       "       [ 5,  5],\n",
       "       [ 6, 21],\n",
       "       [ 7,  1],\n",
       "       [ 1,  2],\n",
       "       [ 1,  3],\n",
       "       [ 2,  4],\n",
       "       [ 3,  5],\n",
       "       [ 4,  6],\n",
       "       [ 5,  7],\n",
       "       [ 6,  2],\n",
       "       [ 7,  1],\n",
       "       [ 1,  2],\n",
       "       [ 2,  3],\n",
       "       [ 3,  4]], dtype=int64)"
      ]
     },
     "execution_count": 3,
     "metadata": {},
     "output_type": "execute_result"
    }
   ],
   "source": [
    "inputs = bs.drop('z', axis='columns')\n",
    "inputs = inputs.values.reshape(bs.shape[0],2)\n",
    "inputs"
   ]
  },
  {
   "cell_type": "code",
   "execution_count": 4,
   "id": "72150adc",
   "metadata": {},
   "outputs": [
    {
     "data": {
      "text/plain": [
       "(19, 2)"
      ]
     },
     "execution_count": 4,
     "metadata": {},
     "output_type": "execute_result"
    }
   ],
   "source": [
    "inputs.shape"
   ]
  },
  {
   "cell_type": "code",
   "execution_count": 5,
   "id": "6179cc27",
   "metadata": {},
   "outputs": [
    {
     "data": {
      "text/plain": [
       "array([[ 7],\n",
       "       [12],\n",
       "       [12],\n",
       "       [17],\n",
       "       [22],\n",
       "       [27],\n",
       "       [77],\n",
       "       [19],\n",
       "       [10],\n",
       "       [13],\n",
       "       [18],\n",
       "       [23],\n",
       "       [28],\n",
       "       [33],\n",
       "       [20],\n",
       "       [19],\n",
       "       [10],\n",
       "       [15],\n",
       "       [20]], dtype=int64)"
      ]
     },
     "execution_count": 5,
     "metadata": {},
     "output_type": "execute_result"
    }
   ],
   "source": [
    "z = bs['z'].values.reshape(bs.shape[0],1)\n",
    "z"
   ]
  },
  {
   "cell_type": "code",
   "execution_count": 6,
   "id": "373923ae",
   "metadata": {},
   "outputs": [
    {
     "data": {
      "text/plain": [
       "(19, 1)"
      ]
     },
     "execution_count": 6,
     "metadata": {},
     "output_type": "execute_result"
    }
   ],
   "source": [
    "z.shape"
   ]
  },
  {
   "cell_type": "code",
   "execution_count": 7,
   "id": "e8b7eafa",
   "metadata": {},
   "outputs": [],
   "source": [
    "#model.evaluate(inputs, z)"
   ]
  },
  {
   "cell_type": "markdown",
   "id": "03d6004d",
   "metadata": {},
   "source": [
    "class Trainer:\n",
    "    def __init__(self, model, epochs, batch, loss_fn, optimizer):\n",
    "        self.model = model\n",
    "        self.epochs = epochs\n",
    "        self.batch = batch\n",
    "        self.loss_fn = loss_fn\n",
    "    def train(self, train_dataset, train_metric):\n",
    "        for epoch in range(self.epochs):\n",
    "            print(\"\\nStart of epoch %d\" % (epoch,))\n",
    "            # Iterate over the batches of the dataset.\n",
    "            for step, (x_batch_train, y_batch_train) in enumerate(train_dataset):\n",
    "                with tf.GradientTape() as tape:\n",
    "                    logits = model(x_batch_train, training=True)\n",
    "                    loss_value = self.loss_fn(y_batch_train, logits)\n",
    "                    # tf.print(loss_value)\n",
    "                grads = tape.gradient(loss_value, model.trainable_weights)\n",
    "                self.optimizer.apply_gradients(zip(grads, model.trainable_weights))\n",
    "                # Update training metric.\n",
    "                train_metric.update_state(y_batch_train, logits)\n",
    "                # Log every 5 batches.\n",
    "                if step % 5 == 0:\n",
    "                    print(\n",
    "                        \"Training loss (for one batch) at step %d: %.4f\"\n",
    "                        % (step, float(loss_value))\n",
    "                    )\n",
    "                    print(\"Seen so far: %d samples\" % ((step + 1) * self.batch))\n",
    "                    print(train_metric.result().numpy())\n",
    "                # Display metrics at the end of each epoch.\n",
    "            train_acc = train_acc_metric.result()\n",
    "            print(\"Training acc over epoch: %.4f\" % (float(train_acc),))"
   ]
  },
  {
   "cell_type": "code",
   "execution_count": 8,
   "id": "e9de8ebb",
   "metadata": {},
   "outputs": [
    {
     "data": {
      "text/plain": [
       "(19, 2)"
      ]
     },
     "execution_count": 8,
     "metadata": {},
     "output_type": "execute_result"
    }
   ],
   "source": [
    "inputs.shape"
   ]
  },
  {
   "cell_type": "code",
   "execution_count": 9,
   "id": "6f4e94bf",
   "metadata": {},
   "outputs": [
    {
     "data": {
      "text/plain": [
       "array([[ 1,  1],\n",
       "       [ 2,  2],\n",
       "       [ 2,  2],\n",
       "       [ 3,  3],\n",
       "       [ 4,  4],\n",
       "       [ 5,  5],\n",
       "       [ 6, 21],\n",
       "       [ 7,  1],\n",
       "       [ 1,  2],\n",
       "       [ 1,  3],\n",
       "       [ 2,  4],\n",
       "       [ 3,  5],\n",
       "       [ 4,  6],\n",
       "       [ 5,  7],\n",
       "       [ 6,  2],\n",
       "       [ 7,  1],\n",
       "       [ 1,  2],\n",
       "       [ 2,  3],\n",
       "       [ 3,  4]], dtype=int64)"
      ]
     },
     "execution_count": 9,
     "metadata": {},
     "output_type": "execute_result"
    }
   ],
   "source": [
    "inputs"
   ]
  },
  {
   "cell_type": "code",
   "execution_count": 10,
   "id": "09342390",
   "metadata": {},
   "outputs": [],
   "source": [
    "import time\n",
    "\n",
    "class custom_train:\n",
    "    \n",
    "    \n",
    "    def __init__(self, model, optimizer_fn, loss_fn, metric_fn):\n",
    "        self.model = model\n",
    "        self.optimizer = optimizer_fn\n",
    "        self.loss_fn = loss_fn\n",
    "        self.metrics = metric_fn\n",
    "\n",
    "    #tf.function\n",
    "    def train_step(self, x, y):\n",
    "        with tf.GradientTape() as tape:\n",
    "            #print(f'x:{x}, y:{y} {type(x)}')\n",
    "            logits = self.model(x, training=True)\n",
    "            loss_value = self.loss_fn(y, logits)\n",
    "        grads = tape.gradient(loss_value, self.model.trainable_weights)\n",
    "        self.optimizer.apply_gradients(zip(grads, self.model.trainable_weights))\n",
    "        self.metrics.update_state(y, logits)\n",
    "        return loss_value\n",
    "\n",
    "    def train(self, inputs, outputs, epochs, batch_size, batch_log, loss_threshold):\n",
    "        loss_list = []\n",
    "        epoch_list = []\n",
    "        start_time = time.time()\n",
    "        for epoch in range(epochs):\n",
    "            loss_value = self.train_step(inputs, outputs)\n",
    "            \n",
    "            # Display metrics at the end of each epoch.\n",
    "            train_acc = self.metrics.result()\n",
    "            \n",
    "            if epoch%50==0:\n",
    "                loss_list.append(loss_value)\n",
    "                epoch_list.append(epoch)\n",
    "                print(\n",
    "                    \"Training acc over epoch: %.4f Training loss (for one batch) at step %d: %.4f Time taken: %.2fs \" \n",
    "                    % (float(train_acc), epoch, float(loss_value), (time.time() - start_time))\n",
    "                )\n",
    "            if loss_value <= loss_threshold:\n",
    "                break\n",
    "            # Reset training metrics at the end of each epoch\n",
    "            self.metrics.reset_states()\n",
    "            \n",
    "        return loss_list, epoch_list"
   ]
  },
  {
   "cell_type": "code",
   "execution_count": 11,
   "id": "a49a20b2",
   "metadata": {},
   "outputs": [
    {
     "name": "stdout",
     "output_type": "stream",
     "text": [
      "Training acc over epoch: 26.8371 Training loss (for one batch) at step 0: 1109.6434 Time taken: 0.40s \n",
      "Training acc over epoch: 25.4958 Training loss (for one batch) at step 50: 1006.7225 Time taken: 0.96s \n",
      "Training acc over epoch: 24.2469 Training loss (for one batch) at step 100: 915.8417 Time taken: 1.51s \n",
      "Training acc over epoch: 22.9993 Training loss (for one batch) at step 150: 829.8531 Time taken: 2.03s \n",
      "Training acc over epoch: 21.7277 Training loss (for one batch) at step 200: 746.7721 Time taken: 2.56s \n",
      "Training acc over epoch: 20.4350 Training loss (for one batch) at step 250: 666.9426 Time taken: 3.07s \n",
      "Training acc over epoch: 19.1249 Training loss (for one batch) at step 300: 590.7771 Time taken: 3.57s \n",
      "Training acc over epoch: 17.8011 Training loss (for one batch) at step 350: 518.6499 Time taken: 4.11s \n",
      "Training acc over epoch: 16.4682 Training loss (for one batch) at step 400: 450.9133 Time taken: 4.68s \n",
      "Training acc over epoch: 15.1314 Training loss (for one batch) at step 450: 387.8983 Time taken: 5.21s \n",
      "Training acc over epoch: 13.7974 Training loss (for one batch) at step 500: 329.9050 Time taken: 5.72s \n",
      "Training acc over epoch: 12.4740 Training loss (for one batch) at step 550: 277.1849 Time taken: 6.22s \n",
      "Training acc over epoch: 11.1701 Training loss (for one batch) at step 600: 229.9203 Time taken: 6.73s \n",
      "Training acc over epoch: 9.8959 Training loss (for one batch) at step 650: 188.2021 Time taken: 7.24s \n",
      "Training acc over epoch: 8.6622 Training loss (for one batch) at step 700: 152.0112 Time taken: 7.75s \n",
      "Training acc over epoch: 7.4804 Training loss (for one batch) at step 750: 121.2054 Time taken: 8.29s \n",
      "Training acc over epoch: 6.3616 Training loss (for one batch) at step 800: 95.5158 Time taken: 8.79s \n",
      "Training acc over epoch: 5.3162 Training loss (for one batch) at step 850: 74.5540 Time taken: 9.32s \n",
      "Training acc over epoch: 4.5366 Training loss (for one batch) at step 900: 57.8340 Time taken: 9.85s \n",
      "Training acc over epoch: 3.8620 Training loss (for one batch) at step 950: 44.8007 Time taken: 10.39s \n",
      "Training acc over epoch: 3.3503 Training loss (for one batch) at step 1000: 34.8674 Time taken: 10.93s \n",
      "Training acc over epoch: 2.8952 Training loss (for one batch) at step 1050: 27.4532 Time taken: 11.50s \n",
      "Training acc over epoch: 2.5329 Training loss (for one batch) at step 1100: 22.0161 Time taken: 12.02s \n",
      "Training acc over epoch: 2.2468 Training loss (for one batch) at step 1150: 18.0782 Time taken: 12.55s \n",
      "Training acc over epoch: 2.0599 Training loss (for one batch) at step 1200: 15.2392 Time taken: 13.09s \n",
      "Training acc over epoch: 1.9373 Training loss (for one batch) at step 1250: 13.1801 Time taken: 13.62s \n",
      "Training acc over epoch: 1.8842 Training loss (for one batch) at step 1300: 11.6584 Time taken: 14.17s \n",
      "Training acc over epoch: 1.8507 Training loss (for one batch) at step 1350: 10.4976 Time taken: 14.77s \n",
      "Training acc over epoch: 1.8170 Training loss (for one batch) at step 1400: 9.5747 Time taken: 15.35s \n",
      "Training acc over epoch: 1.7775 Training loss (for one batch) at step 1450: 8.8070 Time taken: 15.93s \n",
      "Training acc over epoch: 1.7370 Training loss (for one batch) at step 1500: 8.1411 Time taken: 16.49s \n",
      "Training acc over epoch: 1.6962 Training loss (for one batch) at step 1550: 7.5438 Time taken: 17.02s \n",
      "Training acc over epoch: 1.6571 Training loss (for one batch) at step 1600: 6.9950 Time taken: 17.54s \n",
      "Training acc over epoch: 1.6178 Training loss (for one batch) at step 1650: 6.4829 Time taken: 18.08s \n",
      "Training acc over epoch: 1.5768 Training loss (for one batch) at step 1700: 6.0009 Time taken: 18.64s \n",
      "Training acc over epoch: 1.5341 Training loss (for one batch) at step 1750: 5.5453 Time taken: 19.18s \n",
      "Training acc over epoch: 1.4892 Training loss (for one batch) at step 1800: 5.1140 Time taken: 19.71s \n",
      "Training acc over epoch: 1.4426 Training loss (for one batch) at step 1850: 4.7061 Time taken: 20.26s \n",
      "Training acc over epoch: 1.3941 Training loss (for one batch) at step 1900: 4.3207 Time taken: 20.81s \n",
      "Training acc over epoch: 1.3443 Training loss (for one batch) at step 1950: 3.9574 Time taken: 21.34s \n",
      "Training acc over epoch: 1.2940 Training loss (for one batch) at step 2000: 3.6159 Time taken: 21.91s \n",
      "Training acc over epoch: 1.2435 Training loss (for one batch) at step 2050: 3.2955 Time taken: 22.45s \n",
      "Training acc over epoch: 1.1933 Training loss (for one batch) at step 2100: 2.9960 Time taken: 22.99s \n",
      "Training acc over epoch: 1.1435 Training loss (for one batch) at step 2150: 2.7166 Time taken: 23.55s \n",
      "Training acc over epoch: 1.0944 Training loss (for one batch) at step 2200: 2.4569 Time taken: 24.12s \n",
      "Training acc over epoch: 1.0461 Training loss (for one batch) at step 2250: 2.2162 Time taken: 24.67s \n",
      "Training acc over epoch: 0.9987 Training loss (for one batch) at step 2300: 1.9938 Time taken: 25.27s \n",
      "Training acc over epoch: 0.9524 Training loss (for one batch) at step 2350: 1.7889 Time taken: 25.79s \n",
      "Training acc over epoch: 0.9071 Training loss (for one batch) at step 2400: 1.6009 Time taken: 26.32s \n",
      "Training acc over epoch: 0.8630 Training loss (for one batch) at step 2450: 1.4288 Time taken: 26.85s \n",
      "Training acc over epoch: 0.8201 Training loss (for one batch) at step 2500: 1.2719 Time taken: 27.39s \n",
      "Training acc over epoch: 0.7786 Training loss (for one batch) at step 2550: 1.1293 Time taken: 27.91s \n",
      "Training acc over epoch: 0.7387 Training loss (for one batch) at step 2600: 1.0001 Time taken: 28.47s \n",
      "Training acc over epoch: 0.7002 Training loss (for one batch) at step 2650: 0.8836 Time taken: 29.01s \n",
      "Training acc over epoch: 0.6631 Training loss (for one batch) at step 2700: 0.7788 Time taken: 29.55s \n",
      "Training acc over epoch: 0.6273 Training loss (for one batch) at step 2750: 0.6849 Time taken: 30.09s \n",
      "Training acc over epoch: 0.5929 Training loss (for one batch) at step 2800: 0.6012 Time taken: 30.65s \n",
      "Training acc over epoch: 0.5599 Training loss (for one batch) at step 2850: 0.5267 Time taken: 31.27s \n",
      "Training acc over epoch: 0.5284 Training loss (for one batch) at step 2900: 0.4607 Time taken: 31.87s \n",
      "Training acc over epoch: 0.4982 Training loss (for one batch) at step 2950: 0.4024 Time taken: 32.46s \n",
      "Training acc over epoch: 0.4693 Training loss (for one batch) at step 3000: 0.3512 Time taken: 32.99s \n",
      "Training acc over epoch: 0.4419 Training loss (for one batch) at step 3050: 0.3064 Time taken: 33.52s \n",
      "Training acc over epoch: 0.4159 Training loss (for one batch) at step 3100: 0.2672 Time taken: 34.04s \n",
      "Training acc over epoch: 0.3911 Training loss (for one batch) at step 3150: 0.2331 Time taken: 34.58s \n",
      "Training acc over epoch: 0.3677 Training loss (for one batch) at step 3200: 0.2036 Time taken: 35.12s \n",
      "Training acc over epoch: 0.3456 Training loss (for one batch) at step 3250: 0.1781 Time taken: 35.68s \n",
      "Training acc over epoch: 0.3248 Training loss (for one batch) at step 3300: 0.1561 Time taken: 36.21s \n",
      "Training acc over epoch: 0.3052 Training loss (for one batch) at step 3350: 0.1372 Time taken: 36.74s \n",
      "Training acc over epoch: 0.2868 Training loss (for one batch) at step 3400: 0.1211 Time taken: 37.28s \n",
      "Training acc over epoch: 0.2695 Training loss (for one batch) at step 3450: 0.1072 Time taken: 37.81s \n",
      "Training acc over epoch: 0.2533 Training loss (for one batch) at step 3500: 0.0953 Time taken: 38.33s \n",
      "Training acc over epoch: 0.2381 Training loss (for one batch) at step 3550: 0.0852 Time taken: 38.90s \n",
      "Training acc over epoch: 0.2240 Training loss (for one batch) at step 3600: 0.0765 Time taken: 39.43s \n",
      "Training acc over epoch: 0.2109 Training loss (for one batch) at step 3650: 0.0691 Time taken: 39.96s \n",
      "Training acc over epoch: 0.1986 Training loss (for one batch) at step 3700: 0.0628 Time taken: 40.48s \n",
      "Training acc over epoch: 0.1872 Training loss (for one batch) at step 3750: 0.0573 Time taken: 41.01s \n",
      "Training acc over epoch: 0.1814 Training loss (for one batch) at step 3800: 0.0525 Time taken: 41.61s \n",
      "Training acc over epoch: 0.1762 Training loss (for one batch) at step 3850: 0.0484 Time taken: 42.17s \n",
      "Training acc over epoch: 0.1725 Training loss (for one batch) at step 3900: 0.0447 Time taken: 42.72s \n",
      "Training acc over epoch: 0.1687 Training loss (for one batch) at step 3950: 0.0415 Time taken: 43.31s \n"
     ]
    },
    {
     "name": "stdout",
     "output_type": "stream",
     "text": [
      "Training acc over epoch: 0.1649 Training loss (for one batch) at step 4000: 0.0387 Time taken: 43.89s \n",
      "Training acc over epoch: 0.1611 Training loss (for one batch) at step 4050: 0.0361 Time taken: 44.56s \n",
      "Training acc over epoch: 0.1572 Training loss (for one batch) at step 4100: 0.0338 Time taken: 45.15s \n",
      "Training acc over epoch: 0.1533 Training loss (for one batch) at step 4150: 0.0316 Time taken: 45.75s \n",
      "Training acc over epoch: 0.1493 Training loss (for one batch) at step 4200: 0.0296 Time taken: 46.30s \n",
      "Training acc over epoch: 0.1454 Training loss (for one batch) at step 4250: 0.0278 Time taken: 46.86s \n",
      "Training acc over epoch: 0.1414 Training loss (for one batch) at step 4300: 0.0261 Time taken: 47.42s \n",
      "Training acc over epoch: 0.1374 Training loss (for one batch) at step 4350: 0.0245 Time taken: 48.00s \n",
      "Training acc over epoch: 0.1334 Training loss (for one batch) at step 4400: 0.0229 Time taken: 48.57s \n",
      "Training acc over epoch: 0.1294 Training loss (for one batch) at step 4450: 0.0215 Time taken: 49.14s \n",
      "Training acc over epoch: 0.1254 Training loss (for one batch) at step 4500: 0.0201 Time taken: 49.68s \n",
      "Training acc over epoch: 0.1214 Training loss (for one batch) at step 4550: 0.0188 Time taken: 50.23s \n",
      "Training acc over epoch: 0.1175 Training loss (for one batch) at step 4600: 0.0176 Time taken: 50.76s \n",
      "Training acc over epoch: 0.1135 Training loss (for one batch) at step 4650: 0.0164 Time taken: 51.28s \n",
      "Training acc over epoch: 0.1096 Training loss (for one batch) at step 4700: 0.0152 Time taken: 51.84s \n",
      "Training acc over epoch: 0.1058 Training loss (for one batch) at step 4750: 0.0142 Time taken: 52.39s \n",
      "Training acc over epoch: 0.1019 Training loss (for one batch) at step 4800: 0.0131 Time taken: 52.94s \n",
      "Training acc over epoch: 0.0981 Training loss (for one batch) at step 4850: 0.0122 Time taken: 53.48s \n",
      "Training acc over epoch: 0.0944 Training loss (for one batch) at step 4900: 0.0113 Time taken: 54.02s \n",
      "Training acc over epoch: 0.0907 Training loss (for one batch) at step 4950: 0.0104 Time taken: 54.55s \n"
     ]
    }
   ],
   "source": [
    "input_layer = keras.Input(shape=(2,))\n",
    "hidden_layer = keras.layers.Dense(2)(input_layer)\n",
    "output_layer = keras.layers.Dense(1)(hidden_layer)\n",
    "\n",
    "model = keras.Model(input_layer, output_layer)\n",
    "optimizer = tf.keras.optimizers.Adam()\n",
    "loss_function = tf.keras.losses.MeanSquaredError(reduction=\"auto\", name=\"mean_squared_error\")\n",
    "metric = tf.keras.metrics.MeanAbsoluteError()\n",
    "my_train = custom_train(model, optimizer, loss_function, metric)\n",
    "loss_list, epoch_list = my_train.train(inputs, z, 5000, 15, 5, 0.01)\n"
   ]
  },
  {
   "cell_type": "code",
   "execution_count": 12,
   "id": "c4e326cf",
   "metadata": {},
   "outputs": [
    {
     "data": {
      "text/plain": [
       "[<matplotlib.lines.Line2D at 0x1be8382f550>]"
      ]
     },
     "execution_count": 12,
     "metadata": {},
     "output_type": "execute_result"
    },
    {
     "data": {
      "image/png": "[encoded data removed]",
      "text/plain": [
       "<Figure size 640x480 with 1 Axes>"
      ]
     },
     "metadata": {},
     "output_type": "display_data"
    }
   ],
   "source": [
    "plt.xlabel(\"epoch\")\n",
    "plt.ylabel(\"loss\")\n",
    "plt.plot(epoch_list, loss_list)\n"
   ]
  },
  {
   "cell_type": "code",
   "execution_count": 14,
   "id": "d354460d",
   "metadata": {},
   "outputs": [],
   "source": [
    "temp = np.array([[3, 2]], dtype='int64')"
   ]
  },
  {
   "cell_type": "code",
   "execution_count": 15,
   "id": "b2e00347",
   "metadata": {
    "scrolled": true
   },
   "outputs": [
    {
     "name": "stdout",
     "output_type": "stream",
     "text": [
      "1/1 [==============================] - 0s 63ms/step\n"
     ]
    },
    {
     "data": {
      "text/plain": [
       "array([[14.065841]], dtype=float32)"
      ]
     },
     "execution_count": 15,
     "metadata": {},
     "output_type": "execute_result"
    }
   ],
   "source": [
    "model.predict(temp)"
   ]
  },
  {
   "cell_type": "code",
   "execution_count": null,
   "id": "f10e393f",
   "metadata": {},
   "outputs": [],
   "source": []
  }
 ],
 "metadata": {
  "kernelspec": {
   "display_name": "Python 3 (ipykernel)",
   "language": "python",
   "name": "python3"
  },
  "language_info": {
   "codemirror_mode": {
    "name": "ipython",
    "version": 3
   },
   "file_extension": ".py",
   "mimetype": "text/x-python",
   "name": "python",
   "nbconvert_exporter": "python",
   "pygments_lexer": "ipython3",
   "version": "3.9.13"
  }
 },
 "nbformat": 4,
 "nbformat_minor": 5
}
